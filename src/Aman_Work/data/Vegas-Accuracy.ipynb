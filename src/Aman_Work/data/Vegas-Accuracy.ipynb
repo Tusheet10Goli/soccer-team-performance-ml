{
 "cells": [
  {
   "cell_type": "code",
   "execution_count": 34,
   "id": "3ea28228",
   "metadata": {},
   "outputs": [],
   "source": [
    "from bs4 import BeautifulSoup\n",
    "import pandas as pd\n",
    "import requests\n",
    "import time\n",
    "from tqdm import tqdm\n",
    "import wget"
   ]
  },
  {
   "cell_type": "code",
   "execution_count": 42,
   "id": "1bd633ec",
   "metadata": {},
   "outputs": [],
   "source": [
    "odds = pd.read_csv(\"Vegas-Accuracy.csv\")[[\"FTR\", \"AvgH\", \"AvgD\", \"AvgA\"]]"
   ]
  },
  {
   "cell_type": "code",
   "execution_count": 53,
   "id": "5860dfe6",
   "metadata": {},
   "outputs": [
    {
     "name": "stdout",
     "output_type": "stream",
     "text": [
      "0.5789473684210527\n"
     ]
    }
   ],
   "source": [
    "correct = 0\n",
    "\n",
    "for idx in range(len(odds)):\n",
    "    line = odds.iloc[idx]\n",
    "    result = line[\"FTR\"]\n",
    "    accurate = True\n",
    "    for possible in [\"H\", \"D\", \"A\"]:\n",
    "        if line[\"Avg{}\".format(result)] > line[\"Avg{}\".format(possible)]:\n",
    "            accurate = False\n",
    "    if accurate:\n",
    "        correct += 1\n",
    "\n",
    "print(correct / len(odds))"
   ]
  },
  {
   "cell_type": "code",
   "execution_count": null,
   "id": "ab24e370",
   "metadata": {},
   "outputs": [],
   "source": []
  }
 ],
 "metadata": {
  "kernelspec": {
   "display_name": "Python 3 (ipykernel)",
   "language": "python",
   "name": "python3"
  },
  "language_info": {
   "codemirror_mode": {
    "name": "ipython",
    "version": 3
   },
   "file_extension": ".py",
   "mimetype": "text/x-python",
   "name": "python",
   "nbconvert_exporter": "python",
   "pygments_lexer": "ipython3",
   "version": "3.9.12"
  }
 },
 "nbformat": 4,
 "nbformat_minor": 5
}
