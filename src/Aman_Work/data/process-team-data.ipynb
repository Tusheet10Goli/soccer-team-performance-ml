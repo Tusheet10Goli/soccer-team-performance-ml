{
 "cells": [
  {
   "cell_type": "code",
   "execution_count": 1,
   "id": "5971a7b7",
   "metadata": {},
   "outputs": [],
   "source": [
    "import pandas as pd\n",
    "from bs4 import BeautifulSoup\n",
    "import requests\n",
    "import time\n",
    "from tqdm import tqdm\n",
    "import os\n",
    "from datetime import datetime\n",
    "from datetime import timedelta\n",
    "from math import isnan"
   ]
  },
  {
   "cell_type": "code",
   "execution_count": 2,
   "id": "ea6033f3",
   "metadata": {},
   "outputs": [],
   "source": [
    "dataFiles = os.listdir(\"raw-data\")\n",
    "dataFiles.sort()"
   ]
  },
  {
   "cell_type": "code",
   "execution_count": 3,
   "id": "e2e19ade",
   "metadata": {},
   "outputs": [],
   "source": [
    "csvs = [\"raw-data/{}\".format(tmp) for tmp in [\n",
    "    '2017-2018-Premier-League-Scores-and-Fixtures',\n",
    "    '2018-2019-Premier-League-Scores-and-Fixtures',\n",
    "    '2019-2020-Premier-League-Scores-and-Fixtures',\n",
    "    '2020-2021-Premier-League-Scores-and-Fixtures',\n",
    "    '2021-2022-Premier-League-Scores-and-Fixtures',\n",
    "    '2022-2023-Premier-League-Scores-and-Fixtures',\n",
    "]]\n",
    "\n",
    "allGames = pd.concat([pd.read_csv(csv) for csv in csvs])[[\"Date\", \"Home\", \"Away\"]]"
   ]
  },
  {
   "cell_type": "code",
   "execution_count": 4,
   "id": "196871d6",
   "metadata": {},
   "outputs": [],
   "source": [
    "# Note: this is brittle and may need to change based on who gets promoted into the Premier League\n",
    "replaceNames = {\n",
    "    \"West Brom\": \"West Bromwich Albion\",\n",
    "    \"Huddersfield\": \"Huddersfield Town\",\n",
    "    \"Brighton\": \"Brighton and Hove Albion\",\n",
    "    \"West Ham\": \"West Ham United\",\n",
    "    \"Manchester Utd\": \"Manchester United\",\n",
    "    \"Tottenham\": \"Tottenham Hotspur\",\n",
    "    \"Newcastle Utd\": \"Newcastle United\",\n",
    "    \"Wolves\": \"Wolverhampton Wanderers\",\n",
    "    \"Sheffield Utd\": \"Sheffield United\"\n",
    "}\n",
    "\n",
    "\n",
    "allPlayerStats = dict()\n",
    "\n",
    "def isValidRow(row):\n",
    "    return type(allGames.iloc[row][\"Home\"]) is str\n",
    "\n",
    "\n",
    "def getTablesForRow(row):\n",
    "    homeRaw = allGames.iloc[row][\"Home\"]\n",
    "    awayRaw = allGames.iloc[row][\"Away\"]\n",
    "    dateRaw = allGames.iloc[row][\"Date\"]\n",
    "    \n",
    "    if homeRaw in replaceNames:\n",
    "        homeRaw = replaceNames[homeRaw]\n",
    "    \n",
    "    if awayRaw in replaceNames:\n",
    "        awayRaw = replaceNames[awayRaw]\n",
    "    \n",
    "    home = homeRaw.replace(\" \", \"-\")\n",
    "    away = awayRaw.replace(\" \", \"-\")\n",
    "    date = datetime.strptime(dateRaw, '%Y-%m-%d').strftime(\"%B-%-d-%Y\")\n",
    "    \n",
    "    substr = \"{}-{}-{}\".format(home, away, date)\n",
    "    fileList = [\"raw-data/{}\".format(tmp) for tmp in filter(lambda x: substr in x, dataFiles)]\n",
    "    fileList.sort(key = lambda x: int(x.split(\"-\")[-1]))\n",
    "    return [pd.read_csv(file) for file in fileList]\n",
    "\n",
    "\n",
    "def getStat(columnName, columnKey, statName, homeTable, row, tables):\n",
    "    date = allGames.iloc[row][\"Date\"]\n",
    "\n",
    "    assert homeTable <= 9\n",
    "    assert tables[homeTable].iloc[0][columnName] == columnKey, row\n",
    "    assert tables[homeTable + 7].iloc[0][columnName] == columnKey, row\n",
    "    \n",
    "    tmpStat = dict()\n",
    "    tmpStat[\"Home {}\".format(statName)] = float(tables[homeTable].iloc[-1][columnName])\n",
    "    tmpStat[\"Away {}\".format(statName)] = float(tables[homeTable + 7].iloc[-1][columnName])\n",
    "    return tmpStat    \n",
    "\n",
    "\n",
    "def getAggregateStats(row):\n",
    "    tables = getTablesForRow(row)\n",
    "    stats = dict()\n",
    "    \n",
    "    # Basic Stats\n",
    "    stats[\"Home\"] = allGames.iloc[row][\"Home\"]\n",
    "    stats[\"Away\"] = allGames.iloc[row][\"Away\"]\n",
    "    stats[\"Date\"] = datetime.strptime(allGames.iloc[row][\"Date\"], '%Y-%m-%d')\n",
    "    stats.update(getStat(\"Performance\", \"Gls\", \"Goals\", 3, row, tables))\n",
    "    stats.update(getStat(\"Performance.1\", \"Ast\", \"Assists\", 3, row, tables))\n",
    "    stats.update(getStat(\"Performance.4\", \"Sh\", \"Shots Total\", 3, row, tables))\n",
    "    stats.update(getStat(\"Performance.5\", \"SoT\", \"Shots on Target\", 3, row, tables))\n",
    "    stats.update(getStat(\"SCA\", \"SCA\", \"Shot Creating Actions\", 3, row, tables))\n",
    "    stats.update(getStat(\"SCA.1\", \"GCA\", \"Goal Creating Actions\", 3, row, tables))\n",
    "    stats.update(getStat(\"SCA.1\", \"GCA\", \"Goal Creating Actions\", 3, row, tables))\n",
    "    stats.update(getStat(\"Unnamed: 23_level_0\", \"KP\", \"Assisted Shots\", 4, row, tables))\n",
    "    stats.update(getStat(\"Unnamed: 24_level_0\", \"1/3\", \"Passes Into Attacking Third\", 4, row, tables))\n",
    "    stats.update(getStat(\"Unnamed: 25_level_0\", \"PPA\", \"Passes Into Attacking Penalty\", 4, row, tables))\n",
    "    stats.update(getStat(\"Unnamed: 26_level_0\", \"CrsPA\", \"Crosses Into Attacking Penalty\", 4, row, tables))\n",
    "    stats.update(getStat(\"Touches\", \"Touches\", \"Touches\", 7, row, tables))\n",
    "    stats.update(getStat(\"Touches.1\", \"Def Pen\", \"Defensive Penalty Touches\", 7, row, tables))\n",
    "    stats.update(getStat(\"Touches.2\", \"Def 3rd\", \"Defensive Third Touches\", 7, row, tables))\n",
    "    stats.update(getStat(\"Touches.3\", \"Mid 3rd\", \"Middle Third Touches\", 7, row, tables))\n",
    "    stats.update(getStat(\"Touches.4\", \"Att 3rd\", \"Attacking Third Touches\", 7, row, tables))\n",
    "    stats.update(getStat(\"Touches.5\", \"Att Pen\", \"Attacking Penalty Touches\", 7, row, tables))\n",
    "    stats.update(getStat(\"Dribbles\", \"Succ\", \"Dribbles Successful\", 7, row, tables))\n",
    "    stats.update(getStat(\"Dribbles.1\", \"Att\", \"Dribbles Attempted\", 7, row, tables))\n",
    "    stats.update(getStat(\"Performance.10\", \"Int\", \"Interceptions\", 3, row, tables))\n",
    "    stats.update(getStat(\"Performance.11\", \"Blocks\", \"Blocks\", 3, row, tables))    \n",
    "    stats.update(getStat(\"Passes.3\", \"Prog\", \"Progressive Passes Completed\", 3, row, tables))\n",
    "    stats.update(getStat(\"Passes.1\", \"Att\", \"Passes Attempted\", 3, row, tables))\n",
    "    stats.update(getStat(\"Total.3\", \"TotDist\", \"Total Passing Distance\", 4, row, tables))\n",
    "    stats.update(getStat(\"Total.4\", \"PrgDist\", \"Progressive Passing Distance\", 4, row, tables))\n",
    "    stats.update(getStat(\"Pass Types.5\", \"Crs\", \"Corner Kicks\", 5, row, tables))\n",
    "    stats.update(getStat(\"Pass Types.7\", \"CK\", \"Crosses\", 5, row, tables))\n",
    "    stats.update(getStat(\"Passes\", \"Cmp\", \"Pass Completed\", 3, row, tables))\n",
    "    stats.update(getStat(\"Short\", \"Cmp\", \"Short Passes Completed\", 4, row, tables))\n",
    "    stats.update(getStat(\"Short.1\", \"Att\", \"Short Passes Attempted\", 4, row, tables))\n",
    "    stats.update(getStat(\"Medium\", \"Cmp\", \"Medium Passes Completed\", 4, row, tables))\n",
    "    stats.update(getStat(\"Medium.1\", \"Att\", \"Medium Passes Attempted\", 4, row, tables))\n",
    "    stats.update(getStat(\"Long\", \"Cmp\", \"Long Passes Completed\", 4, row, tables))\n",
    "    stats.update(getStat(\"Long.1\", \"Att\", \"Long Passes Attempted\", 4, row, tables))\n",
    "    stats.update(getStat(\"Tackles\", \"Tkl\", \"Tackles\", 6, row, tables))\n",
    "    stats.update(getStat(\"Tackles.1\", \"TklW\", \"Tackles Won\", 6, row, tables))\n",
    "    stats.update(getStat(\"Performance.3\", \"Fls\", \"Fouls\", 8, row, tables))\n",
    "    stats.update(getStat(\"Performance.12\", \"Recov\", \"Loose Ball Recoveries\", 8, row, tables))\n",
    "    stats.update(getStat(\"Aerial Duels\", \"Won\", \"Aerials Won\", 8, row, tables))\n",
    "    stats.update(getStat(\"Aerial Duels.1\", \"Lost\", \"Aerials Lost\", 8, row, tables))\n",
    "    stats.update(getStat(\"Shot Stopping\", \"SoTA\", \"Shots on Target Against\", 9, row, tables))\n",
    "    stats.update(getStat(\"Shot Stopping.1\", \"GA\", \"Goals Against\", 9, row, tables))\n",
    "    \n",
    "    \n",
    "    # This is very brittle\n",
    "    # stats[\"Home Posession\"] = int(tables[2].iloc[1, 1].replace(\"%\", \"\"))\n",
    "    # stats[\"Away Posession\"] = int(tables[2].iloc[1, 2].replace(\"%\", \"\"))\n",
    "    \n",
    "    return stats  \n"
   ]
  },
  {
   "cell_type": "code",
   "execution_count": 5,
   "id": "fd83f2f9",
   "metadata": {},
   "outputs": [
    {
     "name": "stderr",
     "output_type": "stream",
     "text": [
      "100%|█████████████████████████████████████████████████████████████████████████████████████████████████████████████████████████| 2603/2603 [01:51<00:00, 23.44it/s]\n"
     ]
    }
   ],
   "source": [
    "statsList = []\n",
    "\n",
    "for index in tqdm(range(len(allGames))):\n",
    "    if isValidRow(index):\n",
    "        statsList.append(getAggregateStats(index))\n",
    "\n",
    "df = pd.DataFrame(statsList)\n",
    "df.to_csv(\"team-data\", index=False)"
   ]
  },
  {
   "cell_type": "code",
   "execution_count": 6,
   "id": "982420a1",
   "metadata": {},
   "outputs": [],
   "source": [
    "df = pd.read_csv(\"team-data\")\n",
    "scores = df[[\"Home\", \"Away\", \"Date\", \"Home Goals\", \"Away Goals\"]].copy(deep=True)\n",
    "\n",
    "home = df[[col for col in df.columns if (col == \"Date\" or col.startswith(\"Home\"))]].copy(deep=True)\n",
    "home.rename(mapper = lambda x: x.replace(\"Home\", \"Team\"), inplace=True, axis=1)\n",
    "away = df[[col for col in df.columns if (col == \"Date\" or col.startswith(\"Away\"))]].copy(deep=True)\n",
    "away.rename(mapper = lambda x: x.replace(\"Away\", \"Team\"), inplace=True, axis=1)\n",
    "data = pd.concat([home, away]).sort_values([\"Team\", \"Date\"])\n",
    "data[\"Date\"] = data[\"Date\"].astype(\"datetime64[ns]\")\n",
    "\n",
    "    \n",
    "statsList = list(filter(lambda x: x.startswith(\"Team \"), data.columns))"
   ]
  },
  {
   "cell_type": "code",
   "execution_count": 7,
   "id": "b276e91f",
   "metadata": {},
   "outputs": [],
   "source": [
    "# Compute rolling window stats, normalized to [0,1]\n",
    "def getWindow(windowSize, data):\n",
    "    print(\"Computing {}-game rolling window stats\".format(windowSize))\n",
    "    allDicts = list()\n",
    "    \n",
    "    for index in tqdm(range(len(data))):\n",
    "        row = data.iloc[index]\n",
    "        team = row[\"Team\"]\n",
    "        date = row[\"Date\"]\n",
    "        dateEnd = date\n",
    "        dateStart = dateEnd - timedelta(days=90)\n",
    "        before = data[(data[\"Team\"] == team) & (data[\"Date\"] < dateEnd) & (data[\"Date\"] > dateStart)]\n",
    "        beforeTail = before.tail(windowSize)\n",
    "        if len(beforeTail) == windowSize:\n",
    "            tmpDict = dict()\n",
    "            tmpDict[\"Team\"] = team\n",
    "            tmpDict[\"Date\"] = date\n",
    "            for column in statsList:\n",
    "                tmpDict[column.replace(\"Team\", \"{} Game Rolling Window\".format(windowSize))] = beforeTail[column].sum()\n",
    "            allDicts.append(tmpDict)\n",
    "        \n",
    "    df = pd.DataFrame(allDicts)\n",
    "    return df\n",
    "\n",
    "\n",
    "def windowToInputsOutputsCsv(data, scores, windowSize):\n",
    "    print(\"Converting {}-game rolling window stats into input DataFrame\".format(windowSize))\n",
    "    tmpInputs = list()\n",
    "    tmpOutputs = list()\n",
    "    statsList = list(filter(lambda x: x.startswith(('1', '2', '3', '4', '5')), data.columns))\n",
    "\n",
    "    for index in tqdm(range(len(scores))):\n",
    "        game = scores.iloc[index]\n",
    "        date = game[\"Date\"]\n",
    "        home = game[\"Home\"]\n",
    "        away = game[\"Away\"]\n",
    "        homeGoals = game[\"Home Goals\"]\n",
    "        awayGoals = game[\"Away Goals\"]\n",
    "        homeWin = homeGoals > awayGoals\n",
    "        draw = homeGoals == awayGoals\n",
    "        result = \"Home Win\" if homeWin else \"Draw\" if draw else \"Home Loss\"\n",
    "\n",
    "        homeStats = data[(data[\"Date\"] == date) & (data[\"Team\"] == home)]\n",
    "        awayStats = data[(data[\"Date\"] == date) & (data[\"Team\"] == away)]\n",
    "        if len(homeStats) != 1 or len(awayStats) != 1:\n",
    "            continue\n",
    "        tmp = dict()\n",
    "        tmp[\"Date\"] = date\n",
    "        tmp[\"Home\"] = home\n",
    "        tmp[\"Away\"] = away\n",
    "\n",
    "        for stat in statsList:\n",
    "            tmp[\"{} Difference\".format(stat)] = homeStats.iloc[0][stat] - awayStats.iloc[0][stat]\n",
    "\n",
    "        tmpInputs.append(tmp)\n",
    "        tmpOutputs.append({\"Date\": date, \n",
    "                           \"Home\": home, \n",
    "                           \"Away\": away, \n",
    "                           \"Result\": result,\n",
    "                           \"Goal Difference\": homeGoals - awayGoals\n",
    "                          })\n",
    "\n",
    "    inputs = pd.DataFrame(tmpInputs)\n",
    "    outputs = pd.DataFrame(tmpOutputs)\n",
    "    inputs.to_csv(\"inputs-{}-window\".format(windowSize), index=False)\n",
    "    outputs.to_csv(\"outputs-{}-window\".format(windowSize), index=False)\n"
   ]
  },
  {
   "cell_type": "code",
   "execution_count": 8,
   "id": "31dd3e91",
   "metadata": {},
   "outputs": [
    {
     "name": "stdout",
     "output_type": "stream",
     "text": [
      "Computing 5-game rolling window stats\n"
     ]
    },
    {
     "name": "stderr",
     "output_type": "stream",
     "text": [
      "100%|████████████████████████████████████████████████████████████████████████████████████████████████████████████████████████| 4560/4560 [00:13<00:00, 342.67it/s]\n"
     ]
    },
    {
     "name": "stdout",
     "output_type": "stream",
     "text": [
      "Converting 5-game rolling window stats into input DataFrame\n"
     ]
    },
    {
     "name": "stderr",
     "output_type": "stream",
     "text": [
      "100%|████████████████████████████████████████████████████████████████████████████████████████████████████████████████████████| 2280/2280 [00:12<00:00, 182.97it/s]\n"
     ]
    }
   ],
   "source": [
    "windowSize = 5\n",
    "windowToInputsOutputsCsv(getWindow(windowSize, data), scores, windowSize)"
   ]
  },
  {
   "cell_type": "code",
   "execution_count": null,
   "id": "5dd33f68",
   "metadata": {},
   "outputs": [],
   "source": []
  }
 ],
 "metadata": {
  "kernelspec": {
   "display_name": "Python 3 (ipykernel)",
   "language": "python",
   "name": "python3"
  },
  "language_info": {
   "codemirror_mode": {
    "name": "ipython",
    "version": 3
   },
   "file_extension": ".py",
   "mimetype": "text/x-python",
   "name": "python",
   "nbconvert_exporter": "python",
   "pygments_lexer": "ipython3",
   "version": "3.9.12"
  },
  "vscode": {
   "interpreter": {
    "hash": "5029a0a6fb8f0bbb386dcdab084d2903e6415cc3c9fb8eae6cb97f36c549fe5b"
   }
  }
 },
 "nbformat": 4,
 "nbformat_minor": 5
}
