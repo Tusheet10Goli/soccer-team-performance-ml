{
 "cells": [
  {
   "cell_type": "code",
   "execution_count": 4,
   "id": "9b22b366",
   "metadata": {},
   "outputs": [],
   "source": [
    "import pandas as pd\n",
    "from matplotlib import pyplot as plt\n",
    "import numpy as np"
   ]
  },
  {
   "cell_type": "raw",
   "id": "3c01ea66",
   "metadata": {},
   "source": [
    "This is used to figure out how accurate the result predictor is compared to vegas"
   ]
  },
  {
   "cell_type": "code",
   "execution_count": 5,
   "id": "a701ff50",
   "metadata": {},
   "outputs": [
    {
     "name": "stdout",
     "output_type": "stream",
     "text": [
      "(1301, 3) [0 0 1]\n"
     ]
    }
   ],
   "source": [
    "windowSize = 5\n",
    "outputs = pd.read_csv(\"outputs-{}-window\".format(windowSize))\n",
    "inputs = pd.read_csv(\"inputs-{}-window\".format(windowSize))\n",
    "\n",
    "b = outputs[\"Goal Difference\"].values.flatten()\n",
    "results = outputs[\"Result\"].values.flatten()\n",
    "\n",
    "b3 = np.zeros(shape = (len(results), 3), dtype=np.int32)\n",
    "for index, result in enumerate(results):\n",
    "    if result == \"Home Win\":\n",
    "        b3[index][0] = 1\n",
    "    elif result == \"Draw\":\n",
    "        b3[index][1] = 1\n",
    "    elif result == \"Home Loss\":\n",
    "        b3[index][2] = 1\n",
    "\n",
    "A = inputs.loc[:, ~inputs.columns.isin([\"Date\", \"Home\", \"Away\"])].values\n",
    "assert len(A) == len(b3)\n",
    "numSamples, numFeatures = A.shape\n",
    "print(b3.shape, b3[0])"
   ]
  },
  {
   "cell_type": "code",
   "execution_count": 9,
   "id": "9ded6b73",
   "metadata": {},
   "outputs": [
    {
     "name": "stdout",
     "output_type": "stream",
     "text": [
      "Training epoch 0, Goal MSE: 0.49038461538461536\n",
      "Training epoch 1, Goal MSE: 0.4951923076923077\n",
      "Training epoch 2, Goal MSE: 0.49615384615384617\n",
      "Training epoch 3, Goal MSE: 0.5038461538461538\n",
      "Training epoch 4, Goal MSE: 0.5048076923076923\n",
      "Training epoch 5, Goal MSE: 0.5115384615384615\n",
      "Training epoch 6, Goal MSE: 0.5173076923076924\n",
      "Training epoch 7, Goal MSE: 0.5163461538461539\n",
      "Training epoch 8, Goal MSE: 0.5182692307692308\n",
      "Training epoch 9, Goal MSE: 0.5182692307692308\n",
      "Training epoch 10, Goal MSE: 0.5259615384615385\n",
      "Training epoch 11, Goal MSE: 0.5355769230769231\n",
      "Training epoch 12, Goal MSE: 0.5278846153846154\n",
      "Training epoch 13, Goal MSE: 0.5355769230769231\n",
      "Training epoch 14, Goal MSE: 0.5326923076923077\n",
      "Testing Dataset, Goal MSE: 0.5670498084291188\n"
     ]
    }
   ],
   "source": [
    "# Neural Network approach\n",
    "import torch\n",
    "import torch.nn as nn\n",
    "from torch.utils.data import Dataset, DataLoader\n",
    "from sklearn.model_selection import train_test_split\n",
    "from tqdm import tqdm\n",
    "\n",
    "# make custom Dataset for use in training loop\n",
    "class MatchDataset(Dataset):\n",
    "    def __init__(self, matches, labels):\n",
    "        self.matches = matches\n",
    "        # normalize data\n",
    "        matches /= np.max(np.abs(matches),axis=0)\n",
    "        self.labels = labels\n",
    "\n",
    "    def __len__(self):\n",
    "        return len(self.matches)\n",
    "\n",
    "    def __getitem__(self, index):\n",
    "        match = self.matches[index,:]\n",
    "        label = self.labels[index]\n",
    "        return (torch.FloatTensor(match), torch.LongTensor(label))\n",
    "\n",
    "# make training and test datasets\n",
    "X_train, X_test, y_train, y_test = train_test_split(A, b3, test_size=0.2, random_state=10)\n",
    "training_dataset = MatchDataset(X_train, y_train)\n",
    "testing_dataset = MatchDataset(X_test, y_test)\n",
    "training_dataloader = DataLoader(training_dataset, batch_size=32, shuffle=True)\n",
    "testing_dataloader = DataLoader(testing_dataset, batch_size=32, shuffle=True)\n",
    "\n",
    "# define model\n",
    "class MatchModel(nn.Module):\n",
    "\n",
    "    def __init__(self):\n",
    "        super().__init__()\n",
    "        self.first_linear = nn.Linear(41, 100)\n",
    "        self.first_dropout = nn.Dropout(p=0.5)\n",
    "        self.second_linear = nn.Linear(100, 50)\n",
    "        self.second_dropout = nn.Dropout(p=0.3)\n",
    "        self.third_linear = nn.Linear(50, 3)\n",
    "        self.relu = nn.functional.relu\n",
    "        self.softmax = nn.functional.softmax\n",
    "\n",
    "    def forward(self, x):\n",
    "        x = self.first_linear(x)\n",
    "        x = self.first_dropout(x)\n",
    "        x = self.relu(x)\n",
    "        x = self.second_linear(x)\n",
    "        x = self.second_dropout(x)\n",
    "        x = self.relu(x)\n",
    "        x = self.third_linear(x)\n",
    "        x = self.softmax(x, dim=1)\n",
    "        return x\n",
    "\n",
    "# initialize model, loss func, optimizer\n",
    "model = MatchModel()\n",
    "criterion = nn.CrossEntropyLoss()\n",
    "optimizer = torch.optim.Adam(model.parameters())\n",
    "\n",
    "# training on a CPU (yuck!)\n",
    "def train_model(model, criterion, optim, iterator, dubbo=False):\n",
    "    model.train()\n",
    "    total_loss = 0\n",
    "    for x, y in iterator:\n",
    "        optim.zero_grad()\n",
    "        y_hat = model(x)\n",
    "        loss = criterion(y_hat, torch.max(y, 1)[1])\n",
    "        total_loss += loss\n",
    "        loss.backward()\n",
    "        optim.step()\n",
    "    return total_loss\n",
    "\n",
    "def evaluate(model, iterator):\n",
    "    pred, real = [], []\n",
    "    model.eval()\n",
    "    with torch.no_grad():\n",
    "      for x, y in iterator:\n",
    "        y_hat = model(x)\n",
    "        for ground_truth, prediction in zip(y, y_hat):\n",
    "            pred.append(prediction.argmax())\n",
    "            real.append(ground_truth.argmax())\n",
    "\n",
    "    return sum([1 if y == y_hat else 0 for y, y_hat in zip(pred, real)]) / len(pred)\n",
    "\n",
    "for epoch in range(15):\n",
    "    loss = train_model(model, criterion, optimizer, training_dataloader)\n",
    "    accuracy = evaluate(model, training_dataloader)\n",
    "    print(f'Training epoch {epoch}, Goal MSE: {accuracy}')\n",
    "\n",
    "print(f'Testing Dataset, Goal MSE: {evaluate(model, testing_dataloader)}')"
   ]
  },
  {
   "cell_type": "code",
   "execution_count": 8,
   "id": "71fb083c",
   "metadata": {},
   "outputs": [
    {
     "data": {
      "text/plain": [
       "2.800044085959935"
      ]
     },
     "execution_count": 8,
     "metadata": {},
     "output_type": "execute_result"
    }
   ],
   "source": [
    "#Method of least squares\n",
    "At = np.transpose(A)\n",
    "x = np.dot(np.matmul(np.linalg.inv(np.matmul(At, A)), At), b)\n",
    "prediction = np.dot(A, x)\n",
    "MSE = ((prediction - b)**2).sum()/len(prediction)\n",
    "MSE"
   ]
  },
  {
   "cell_type": "code",
   "execution_count": 12,
   "id": "ac97bf3c",
   "metadata": {},
   "outputs": [
    {
     "name": "stdout",
     "output_type": "stream",
     "text": [
      "0.528055342044581\n"
     ]
    }
   ],
   "source": [
    "At = np.transpose(A)\n",
    "x = np.dot(np.matmul(np.linalg.inv(np.matmul(At, A)), At), b3)\n",
    "prediction = np.dot(A, x)\n",
    "\n",
    "correct = 0\n",
    "total = len(outputs)\n",
    "\n",
    "for pred, act in zip(prediction, b3):\n",
    "    pred -= pred.min()\n",
    "    assert sum(pred) != 0\n",
    "    pred /= sum(pred)\n",
    "    if act[pred.argmax()] > 0:\n",
    "        correct += 1\n",
    "\n",
    "print(correct/total)"
   ]
  },
  {
   "cell_type": "code",
   "execution_count": null,
   "id": "3e9a3062",
   "metadata": {},
   "outputs": [],
   "source": []
  }
 ],
 "metadata": {
  "kernelspec": {
   "display_name": "Python 3.9.6 64-bit",
   "language": "python",
   "name": "python3"
  },
  "language_info": {
   "codemirror_mode": {
    "name": "ipython",
    "version": 3
   },
   "file_extension": ".py",
   "mimetype": "text/x-python",
   "name": "python",
   "nbconvert_exporter": "python",
   "pygments_lexer": "ipython3",
   "version": "3.9.6"
  },
  "vscode": {
   "interpreter": {
    "hash": "31f2aee4e71d21fbe5cf8b01ff0e069b9275f58929596ceb00d14d90e3e16cd6"
   }
  }
 },
 "nbformat": 4,
 "nbformat_minor": 5
}
