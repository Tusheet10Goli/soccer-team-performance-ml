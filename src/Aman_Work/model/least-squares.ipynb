{
 "cells": [
  {
   "cell_type": "code",
   "execution_count": 2,
   "id": "9b22b366",
   "metadata": {},
   "outputs": [],
   "source": [
    "import pandas as pd\n",
    "from matplotlib import pyplot as plt\n",
    "import numpy as np"
   ]
  },
  {
   "cell_type": "raw",
   "id": "3c01ea66",
   "metadata": {},
   "source": [
    "How the model works:\n",
    "\n",
    "* outputs/inputs windows has the data for teams that the model is trained on\n",
    "* then, when a set of 11 players is selected, you get the aggreagate statistics of that team, normalized to 990 minutes\n",
    "* then you run the aggreagte team from above against the statistically average team to get a goal difference\n",
    "* then normalize that goal difference to a score between 0 and 100"
   ]
  },
  {
   "cell_type": "code",
   "execution_count": 3,
   "id": "a701ff50",
   "metadata": {},
   "outputs": [
    {
     "data": {
      "text/plain": [
       "(1301, 41)"
      ]
     },
     "execution_count": 3,
     "metadata": {},
     "output_type": "execute_result"
    }
   ],
   "source": [
    "windowSize = 5\n",
    "outputs = pd.read_csv(\"outputs-{}-window\".format(windowSize))\n",
    "inputs = pd.read_csv(\"inputs-{}-window\".format(windowSize))\n",
    "\n",
    "b = outputs[\"Goal Difference\"].values.flatten()\n",
    "results = outputs[\"Result\"].values.flatten()\n",
    "\n",
    "b3 = np.zeros(shape = (len(results), 3), dtype=np.int32)\n",
    "for index, result in enumerate(results):\n",
    "    if result == \"Home Win\":\n",
    "        b3[index][0] = 1\n",
    "    elif result == \"Draw\":\n",
    "        b3[index][1] = 1\n",
    "    elif result == \"Home Loss\":\n",
    "        b3[index][2] = 1\n",
    "\n",
    "A = inputs.loc[:, ~inputs.columns.isin([\"Date\", \"Home\", \"Away\"])].values\n",
    "assert len(A) == len(b3)\n",
    "numSamples, numFeatures = A.shape\n",
    "A.shape"
   ]
  },
  {
   "cell_type": "code",
   "execution_count": 6,
   "id": "c8278a53",
   "metadata": {},
   "outputs": [
    {
     "data": {
      "image/png": "[encoded data removed]",
      "text/plain": [
       "<Figure size 432x288 with 1 Axes>"
      ]
     },
     "metadata": {
      "needs_background": "light"
     },
     "output_type": "display_data"
    }
   ],
   "source": [
    "plt.scatter(x = inputs[\"5 Game Rolling Window Shots on Target Difference\"].values, y = b)\n",
    "plt.xlabel(\"Shots On Target\")\n",
    "plt.ylabel(\"Goal Difference\")\n",
    "plt.show()"
   ]
  },
  {
   "cell_type": "code",
   "execution_count": 7,
   "id": "bf2af2d2",
   "metadata": {},
   "outputs": [
    {
     "data": {
      "image/png": "[encoded data removed]",
      "text/plain": [
       "<Figure size 432x288 with 1 Axes>"
      ]
     },
     "metadata": {
      "needs_background": "light"
     },
     "output_type": "display_data"
    }
   ],
   "source": [
    "plt.scatter(x = inputs[\"5 Game Rolling Window Attacking Third Touches Difference\"].values, y = b)\n",
    "plt.xlabel(\"Attacking Third Touches\")\n",
    "plt.ylabel(\"Goal Difference\")\n",
    "plt.show()"
   ]
  },
  {
   "cell_type": "code",
   "execution_count": 3,
   "id": "71fb083c",
   "metadata": {},
   "outputs": [
    {
     "data": {
      "text/plain": [
       "2.8000440859599354"
      ]
     },
     "execution_count": 3,
     "metadata": {},
     "output_type": "execute_result"
    }
   ],
   "source": [
    "#Method of least squares\n",
    "At = np.transpose(A)\n",
    "x = np.dot(np.matmul(np.linalg.inv(np.matmul(At, A)), At), b)\n",
    "prediction = np.dot(A, x)\n",
    "MSE = ((prediction - b)**2).sum()/len(prediction)\n",
    "MSE"
   ]
  },
  {
   "cell_type": "code",
   "execution_count": 6,
   "id": "8db47430",
   "metadata": {},
   "outputs": [],
   "source": [
    "pd.DataFrame(x).to_csv(\"least-squares\", index=False)"
   ]
  },
  {
   "cell_type": "code",
   "execution_count": 16,
   "id": "579c1cfc",
   "metadata": {},
   "outputs": [
    {
     "data": {
      "text/plain": [
       "(1301, 1)"
      ]
     },
     "execution_count": 16,
     "metadata": {},
     "output_type": "execute_result"
    }
   ],
   "source": [
    "x = pd.read_csv(\"least-squares\").values"
   ]
  },
  {
   "cell_type": "code",
   "execution_count": 4,
   "id": "ac97bf3c",
   "metadata": {},
   "outputs": [
    {
     "name": "stdout",
     "output_type": "stream",
     "text": [
      "0.528055342044581\n"
     ]
    }
   ],
   "source": [
    "At = np.transpose(A)\n",
    "x = np.dot(np.matmul(np.linalg.inv(np.matmul(At, A)), At), b3)\n",
    "prediction = np.dot(A, x)\n",
    "\n",
    "correct = 0\n",
    "total = len(outputs)\n",
    "\n",
    "for pred, act in zip(prediction, b3):\n",
    "    pred -= pred.min()\n",
    "    assert sum(pred) != 0\n",
    "    pred /= sum(pred)\n",
    "    if act[pred.argmax()] > 0:\n",
    "        correct += 1\n",
    "\n",
    "print(correct/total)"
   ]
  },
  {
   "cell_type": "code",
   "execution_count": null,
   "id": "3e9a3062",
   "metadata": {},
   "outputs": [],
   "source": []
  }
 ],
 "metadata": {
  "kernelspec": {
   "display_name": "Python 3 (ipykernel)",
   "language": "python",
   "name": "python3"
  },
  "language_info": {
   "codemirror_mode": {
    "name": "ipython",
    "version": 3
   },
   "file_extension": ".py",
   "mimetype": "text/x-python",
   "name": "python",
   "nbconvert_exporter": "python",
   "pygments_lexer": "ipython3",
   "version": "3.9.12"
  },
  "vscode": {
   "interpreter": {
    "hash": "31f2aee4e71d21fbe5cf8b01ff0e069b9275f58929596ceb00d14d90e3e16cd6"
   }
  }
 },
 "nbformat": 4,
 "nbformat_minor": 5
}
